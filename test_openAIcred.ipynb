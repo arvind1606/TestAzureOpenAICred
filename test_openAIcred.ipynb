{
 "cells": [
  {
   "cell_type": "code",
   "execution_count": null,
   "id": "3cb1bdf2-25d6-4ecf-a6b4-186e1ff740e5",
   "metadata": {},
   "outputs": [],
   "source": [
    "import os\n",
    "from openai import AzureOpenAI\n",
    "from langchain_openai import AzureChatOpenAI\n",
    "\n",
    "from dotenv import load_dotenv\n",
    "load_dotenv(r\".env\" ,override=True)"
   ]
  },
  {
   "cell_type": "code",
   "execution_count": null,
   "id": "6e72df99-b95b-47af-a9d8-007ee4c09994",
   "metadata": {},
   "outputs": [],
   "source": [
    "### Setup cred\n",
    "\n",
    "api_key = os.getenv(\"api_key\")\n",
    "api_base =  os.getenv(\"api_base\")\n",
    "api_type = \"azure\"\n",
    "api_version = \"2024-05-01-preview\"\n",
    "\n",
    "deployment_id = os.getenv(\"deployment_id\")\n",
    "\n",
    "gpt_model = os.getenv(\"gpt_model\")\n",
    "model_engine = os.getenv(\"model_engine\")\n",
    "embd_model = os.getenv(\"embd_model\")"
   ]
  },
  {
   "cell_type": "code",
   "execution_count": null,
   "id": "2c01961a-edfa-4381-89f4-395687384b2e",
   "metadata": {},
   "outputs": [],
   "source": [
    "os.environ[\"AZURE_OPENAI_ENDPOINT\"] = api_base\n",
    "os.environ[\"OPENAI_API_VERSION\"] = api_version"
   ]
  },
  {
   "cell_type": "code",
   "execution_count": null,
   "id": "c0f34478-6f6a-4fd7-b602-15d12d4f7bcf",
   "metadata": {},
   "outputs": [],
   "source": [
    "# Initialize the AzureChatOpenAI LLM using LangChain's integration\n",
    "llm = AzureChatOpenAI(\n",
    "    azure_deployment=model_engine,             # Azure deployment name for the model\n",
    "    azure_endpoint=api_base,                   # Base URL for the Azure OpenAI resource\n",
    "    model=model_engine,                        # Model name, typically same as deployment\n",
    "    api_version=api_version,                   # Azure OpenAI API version\n",
    "    api_key=api_key,                           # Azure API key\n",
    "    openai_api_type=\"azure\",                   # Specifies that the provider is Azure\n",
    "    temperature=0.0                            # Controls randomness; 0.0 means deterministic output\n",
    ")\n",
    "\n",
    "# Optionally, initialize a lower-level AzureOpenAI client (useful for raw API calls)\n",
    "client = AzureOpenAI(\n",
    "    api_key=api_key                            # API key for authentication\n",
    "    # If other parameters are needed, add them here (e.g., base_url, api_version)\n",
    ")"
   ]
  },
  {
   "cell_type": "code",
   "execution_count": null,
   "id": "0766ca9f-f66c-4f2c-9bef-98c25bc0370b",
   "metadata": {},
   "outputs": [],
   "source": [
    "system_prompt = \"\"\"You are a smart AI assistant, answer the question asked by user.\n",
    "              \"\"\"\n",
    "\n",
    "question = \"\"\"What is feauture of AI?\"\"\"\n",
    "\n",
    "\n",
    "response = client.chat.completions.create(\n",
    "     model = deployment_id,\n",
    "     messages = [\n",
    "         {\"role\":\"system\",\"content\":system_prompt},\n",
    "         {\"role\":\"user\",\"content\":question} ],\n",
    "     )"
   ]
  },
  {
   "cell_type": "code",
   "execution_count": null,
   "id": "b3639eb4-436c-4c02-b5ff-4aa0e7b4a60a",
   "metadata": {},
   "outputs": [
    {
     "data": {
      "text/plain": [
       "'Artificial Intelligence (AI) encompasses a variety of features and capabilities that enable machines to simulate human intelligence and perform tasks that typically require human cognition. Key features of AI include:\\n\\n### 1. **Automation**\\n   - AI systems can perform repetitive tasks with minimal human intervention, increasing efficiency and reducing human effort.\\n\\n### 2. **Machine Learning (ML)**\\n   - AI can learn from data, identifying patterns and improving its performance over time without being explicitly programmed.\\n\\n### 3. **Natural Language Processing (NLP)**\\n   - The ability of AI to understand, interpret, and respond to human language, enabling applications like chatbots, virtual assistants (e.g., Siri, Alexa), and language translation tools.\\n\\n### 4. **Computer Vision**\\n   - AI can interpret and make decisions based on visual data (e.g., recognizing images, faces, objects, and scenes).\\n\\n### 5. **Predictive Analytics**\\n   - AI can analyze historical data to make predictions about future events, trends, or behaviors (used in finance, marketing, healthcare, etc.).\\n\\n### 6. **Decision-Making**\\n   - AI systems can process information and make decisions based on a set of rules, data analysis, or machine learning algorithms (e.g., recommendation systems or autonomous vehicles).\\n\\n### 7. **Speech Recognition**\\n   - The ability to process and understand spoken language to facilitate voice-based interactions with devices (e.g., dictation tools, virtual assistants).\\n\\n### 8. **Robotics**\\n   - AI powers robots, enabling them to perform physical tasks, often in industries such as manufacturing, logistics, and healthcare.\\n\\n### 9. **Adaptive Learning**\\n   - AI can adapt to new information, environments, or situations by adjusting its behavior and responses dynamically.\\n\\n### 10. **Human-like Interaction**\\n   - Some AI systems simulate human-like interaction, making the technology appear more intuitive and engaging (e.g., humanoid robots, conversational agents).\\n\\n### 11. **Big Data Processing**\\n   - AI can process and analyze vast amounts of data at high speeds, identifying key insights and patterns that might be impossible for humans to detect.\\n\\n### 12. **Real-Time Processing**\\n   - Many AI systems operate in real-time, making it possible to perform tasks instantaneously, such as fraud detection or autonomous vehicle navigation.\\n\\n### 13. **Personalization**\\n   - AI tailors experiences, recommendations, and decisions based on individual user preferences and behaviors (e.g., targeted advertising, Netflix recommendations).\\n\\n### 14. **Emotional Intelligence**\\n   - Some AI systems are designed to detect and respond to emotional cues, helping in applications like customer service or mental health support.\\n\\n### 15. **Self-Correction**\\n   - Advanced AI systems can identify errors in their operations and refine their processes to improve accuracy and performance.\\n\\n### 16. **Task-Specific Intelligence**\\n   - AI is often designed to excel in a specific area or domain (known as \"narrow AI\"), such as gaming, driving, or diagnosing diseases.\\n\\n### 17. **Connectivity and IoT Integration**\\n   - AI systems can integrate with Internet of Things (IoT) devices to create smart, interconnected systems (e.g., smart homes, industrial automation).\\n\\n### 18. **Multilingual Capabilities**\\n   - AI can handle multiple languages, breaking down global communication barriers in various applications.\\n\\nThese features enable AI to revolutionize industries and enhance productivity across a wide range of applications, from healthcare and education to transportation and entertainment.'"
      ]
     },
     "execution_count": 43,
     "metadata": {},
     "output_type": "execute_result"
    }
   ],
   "source": [
    "text = response.choices[0].message.content.replace(' .', '.').strip()\n",
    "text"
   ]
  }
 ],
 "metadata": {
  "kernelspec": {
   "display_name": "menv_bi4bi",
   "language": "python",
   "name": "menv_bi4bi"
  },
  "language_info": {
   "codemirror_mode": {
    "name": "ipython",
    "version": 3
   },
   "file_extension": ".py",
   "mimetype": "text/x-python",
   "name": "python",
   "nbconvert_exporter": "python",
   "pygments_lexer": "ipython3",
   "version": "3.10.14"
  }
 },
 "nbformat": 4,
 "nbformat_minor": 5
}
